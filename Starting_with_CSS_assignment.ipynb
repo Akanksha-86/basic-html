{
  "nbformat": 4,
  "nbformat_minor": 0,
  "metadata": {
    "colab": {
      "provenance": []
    },
    "kernelspec": {
      "name": "python3",
      "display_name": "Python 3"
    },
    "language_info": {
      "name": "python"
    }
  },
  "cells": [
    {
      "cell_type": "markdown",
      "source": [
        "\n",
        "#Starting with CSS\n",
        "\n",
        "\n",
        "\n"
      ],
      "metadata": {
        "id": "mSzA_CEwlhLc"
      }
    },
    {
      "cell_type": "markdown",
      "source": [
        "1. create a simple page with some div tags and show different ways to add css as well as what happens when you target the same elements with inline, internal, and external css. also, utilize comments in the project where required."
      ],
      "metadata": {
        "id": "uRqmG7X8qql6"
      }
    },
    {
      "cell_type": "code",
      "source": [
        "Answer-\n",
        "\n",
        "<!DOCTYPE html>\n",
        "<html>\n",
        "<head>\n",
        "<title>CSS Styling</title>\n",
        "<style>\n",
        "    /* Internal CSS */\n",
        "    div {\n",
        "        background-color: lightblue; /* Default background color */\n",
        "        padding: 20px;\n",
        "        margin: 10px;\n",
        "        border: 1px solid black;\n",
        "    }\n",
        "    .external-style {\n",
        "        background-color: lightgreen; /* External CSS background color */\n",
        "    }\n",
        "</style>\n",
        "<link rel=\"stylesheet\" href=\"external.css\">\n",
        "</head>\n",
        "<body>\n",
        "    <!-- Inline CSS -->\n",
        "    <div style=\"background-color: lightcoral;\">\n",
        "        This div has inline CSS applied.\n",
        "        <p>This is a paragraph within the div.</p>\n",
        "    </div>\n",
        "    <div class=\"external-style\">\n",
        "        This div has external CSS applied.\n",
        "        <p>This is another paragraph within the div.</p>\n",
        "    </div>\n",
        "    <div>\n",
        "        This div has internal CSS applied.\n",
        "        <p>This is a third paragraph within the div.</p>\n",
        "    </div>\n",
        "    <div style=\"background-color: yellow;\">\n",
        "        This div has inline CSS, which overrides the internal and external CSS.\n",
        "        <p>This is a fourth paragraph within the div.</p>\n",
        "    </div>\n",
        "    <div>\n",
        "        This div has internal CSS applied.\n",
        "        <p>This is a fifth paragraph within the div.</p>\n",
        "    </div>\n",
        "</body>\n",
        "</html>"
      ],
      "metadata": {
        "id": "yPmUIxDBrHNi"
      },
      "execution_count": null,
      "outputs": []
    },
    {
      "cell_type": "markdown",
      "source": [
        "2. build an HTML page with multiple paragraph, each assigned a uniue class name. write css rules using class selectors to apply distinct styling to each paragraph. follow the BEM naming convention and explain how you've named the classes."
      ],
      "metadata": {
        "id": "O7mmeAgZrMNl"
      }
    },
    {
      "cell_type": "code",
      "source": [
        "Answer-\n",
        "<!DOCTYPE html>\n",
        "<html lang=\"en\">\n",
        "<head>\n",
        "    <meta charset=\"UTF-8\">\n",
        "    <meta name=\"viewport\" content=\"width=device-width, initial-scale=1.0\">\n",
        "    <title>Multiple Paragraphs</title>\n",
        "    <style>\n",
        "        .paragraph--first {\n",
        "            color: blue;\n",
        "            font-size: 16px;\n",
        "        }\n",
        "        .paragraph--second {\n",
        "            color: green;\n",
        "            font-size: 18px;\n",
        "        }\n",
        "        .paragraph--third {\n",
        "            color: red;\n",
        "            font-size: 20px;\n",
        "        }\n",
        "    </style>\n",
        "</head>\n",
        "<body>\n",
        "    <p class=\"paragraph--first\">This is the first paragraph with a unique class name.</p>\n",
        "    <p class=\"paragraph--second\">This is the second paragraph with a unique class name.</p>\n",
        "    <p class=\"paragraph--third\">This is the third paragraph with a unique class name.</p>\n",
        "</body>\n",
        "</html>\n",
        "\n",
        "\n"
      ],
      "metadata": {
        "id": "bEv-gzjir2ZR"
      },
      "execution_count": null,
      "outputs": []
    },
    {
      "cell_type": "markdown",
      "source": [
        "3. develop an HTML from with verious input elements. use css to style the form, including setting background colors for input fields. create a custome color palette for the form elements, and demostrate how to apply apacity to one of the form sections."
      ],
      "metadata": {
        "id": "MV3mztjJsOp-"
      }
    },
    {
      "cell_type": "code",
      "source": [
        "Answer-\n",
        "<!DOCTYPE html>\n",
        "<html lang=\"en\">\n",
        "<head>\n",
        "    <meta charset=\"UTF-8\">\n",
        "    <meta name=\"viewport\" content=\"width=device-width, initial-scale=1.0\">\n",
        "    <title>Styled Form</title>\n",
        "    <style>\n",
        "        body {\n",
        "            font-family: sans-serif;\n",
        "            margin: 20px;\n",
        "        }\n",
        "        form {\n",
        "            width: 400px;\n",
        "            padding: 20px;\n",
        "            border: 1px solid #ccc;\n",
        "            border-radius: 5px;\n",
        "            background-color: #f9f9f9;\n",
        "        }\n",
        "        .form-section {\n",
        "            margin-bottom: 20px;\n",
        "            padding: 10px;\n",
        "            border: 1px solid #ddd;\n",
        "            border-radius: 3px;\n",
        "        }\n",
        "        .form-section:last-child {\n",
        "            opacity: 0.8;\n",
        "        }\n",
        "        label {\n",
        "            display: block;\n",
        "            margin-bottom: 5px;\n",
        "            font-weight: bold;\n",
        "        }\n",
        "        input[type=\"text\"],\n",
        "        input[type=\"email\"],\n",
        "        input[type=\"password\"],\n",
        "        select {\n",
        "            width: 100%;\n",
        "            padding: 8px;\n",
        "            margin-bottom: 10px;\n",
        "            border: 1px solid #ddd;\n",
        "            border-radius: 3px;\n",
        "            box-sizing: border-box;\n",
        "            background-color: #f0f0f0;\n",
        "        }\n",
        "        select {\n",
        "            height: 35px;\n",
        "        }\n",
        "        input[type=\"submit\"] {\n",
        "            background-color: #5cb85c;\n",
        "            color: white;\n",
        "            padding: 10px 15px;\n",
        "            border: none;\n",
        "            border-radius: 3px;\n",
        "            cursor: pointer;\n",
        "            font-size: 16px;\n",
        "        }\n",
        "        input[type=\"submit\"]:hover {\n",
        "            background-color: #4cae4c;\n",
        "        }\n",
        "    </style>\n",
        "</head>\n",
        "<body>\n",
        "    <form>\n",
        "        <div class=\"form-section\">\n",
        "            <label for=\"name\">Name:</label>\n",
        "            <input type=\"text\" id=\"name\" name=\"name\" required>\n",
        "        </div>\n",
        "\n",
        "        <div class=\"form-section\">\n",
        "            <label for=\"email\">Email:</label>\n",
        "            <input type=\"email\" id=\"email\" name=\"email\" required>\n",
        "        </div>\n",
        "        <div class=\"form-section\">\n",
        "            <label for=\"password\">Password:</label>\n",
        "            <input type=\"password\" id=\"password\" name=\"password\" required>\n",
        "        </div>\n",
        "        <div class=\"form-section\">\n",
        "            <label for=\"gender\">Gender:</label>\n",
        "            <select id=\"gender\" name=\"gender\">\n",
        "                <option value=\"male\">Male</option>\n",
        "                <option value=\"female\">Female</option>\n",
        "                <option value=\"other\">Other</option>\n",
        "            </select>\n",
        "        </div>\n",
        "        <div class=\"form-section\">\n",
        "            <input type=\"submit\" value=\"Submit\">\n",
        "        </div>\n",
        "    </form>\n",
        "</body>\n",
        "</html>"
      ],
      "metadata": {
        "id": "Vei5epd4szkw"
      },
      "execution_count": null,
      "outputs": []
    }
  ]
}