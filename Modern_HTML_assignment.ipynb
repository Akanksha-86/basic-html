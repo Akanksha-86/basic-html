{
  "nbformat": 4,
  "nbformat_minor": 0,
  "metadata": {
    "colab": {
      "provenance": []
    },
    "kernelspec": {
      "name": "python3",
      "display_name": "Python 3"
    },
    "language_info": {
      "name": "python"
    }
  },
  "cells": [
    {
      "cell_type": "markdown",
      "source": [
        "\n",
        "#Modern HTML\n",
        "\n",
        "\n",
        "\n"
      ],
      "metadata": {
        "id": "mSzA_CEwlhLc"
      }
    },
    {
      "cell_type": "markdown",
      "source": [
        "1. list out the features HTML5.\n",
        " - **features of HTML5**\n",
        " - New elements. attributes and behaviors; support for multimedia: better error handling.\n",
        " - New tags like <article>,<aside>,<figure>.\n",
        " - Enhanced forms with new input types.\n",
        " - Built-in audio and video support with <audio> and <video>.\n",
        " - Local storage for offline use.\n",
        " - Graphics and animation with <canvas> and <svg>.\n",
        "2. What are HTML entities? listout five commonly used HTML entities.\n",
        "\n",
        "   **HTML entities**\n",
        "  - Special codes to display reserved chracters.\n",
        "  - Help display symbols that special meaning in HTML.\n",
        "  - Ensure chracter are renderad correctly.\n",
        "  - prevent HTML code from breaking.\n",
        "  - used to display invisible characters.\n",
        "\n",
        "    **commonly used HTML entities**\n",
        "   - &amp; for &\n",
        "   - &it; for <\n",
        "   - &gt; for >\n",
        "   - &quot;for \"\n",
        "   - &apos; for '\n",
        "\n",
        "3-  define accessibility in the context of web development. discuss why it's essential to create accessible websites and how it benifites different user groups.\n",
        " - web accessibility means that websites, tools, and technologies are designed and developed show that people with disabilities can use them. more specifically, people can: perceive, understand, navigate, and interact with the web.\n",
        " an accessibility websites can be used by more people, including those with disabilities. this increases your potential audience, leading to higher web traffic. better user experience: making your website accessible ensures that all users, including those with disabilities, can access information easily.\n",
        " - **people with disabilities**\n",
        " accessible websites allow individuals with visual, auditor, motor or cognitive impairments to nagetive and use online content more effectively using assistive technologies like screen readers, scree magnifiers, and voice recognition software.\n",
        "\n",
        "**4**. list any 3 ways which help us in improving the accessibility of HTML.\n",
        "  - Three ways ti improve HTML accessibility are using semantic HTML, adding alt text to images, and ensuring keyboard navigation.\n",
        "  - **Semantic HTML:** Using the correct HTML elements to structure content makes it easier for screen readers to understand and for users to navigate the page. For example, using <h1> for the main heading, <h2> for subheadings, <p> for paragraphs, and <ol> or <ul> for lists.\n",
        "-  **Alt Text for Images:** Providing descriptive alternative text (alt attributes) for images makes them accessible to users who cannot see them. Screen readers will announce the alt text, allowing users to understand the image's purpose.\n",
        "  -  **Keyboard Navigation** Ensuring that all interactive elements can be accessed and used with a keyboard is crucial for accessibility. This means that users can navigate using the tab key, activate buttons with the enter key, and use the up/down/left/right arrows to interact with elements.\n",
        "\n",
        "5. create a webpage that highlight the features of HTML5. use appropriate semantic tags to structure the content and showcase at least three key features of HTML5 with explanations.\n",
        " -\n",
        "\n"
      ],
      "metadata": {
        "id": "g-YkkZ3rw8eL"
      }
    },
    {
      "cell_type": "code",
      "source": [
        "<!DOCTYPE html>\n",
        "<html lang=\"en\">\n",
        "<head>\n",
        "  <meta charset=\"UTF-8\">\n",
        "  <meta name=\"viewport\" content=\"width=device-width, initial-scale=1.0\">\n",
        "  <title>webpage HTML5</title>\n",
        "</head>\n",
        "<body>\n",
        "  <header>\n",
        "    <h2>Features of HTML5:</h2>\n",
        "    <li>New elements, attributes, and behaviors; Support for multimedia;better error handing.</li>\n",
        "     <li>new tag like<b>  &#60;  article&gt;,  &#60; aside&gt;,  &#60; figure&gt;.</b></li>\n",
        "     <li> Enhanced forms with new input types.</li>\n",
        "\n",
        " <li> Built-in audio and video support with <b>&#60; audio&gt;</b>  and <b> &#60; video&gt;</b> .</li>\n",
        " <li> local  storage for offline use.</li>\n",
        " <li> graphics and animation with <b> &#60; canvas&gt;</b>  and <b> &#60; svg&gt;</b> </li>\n",
        "\n",
        "  </header>\n",
        "  <footer>\n",
        "    <h2>Key features of HTML5:</h2>\n",
        "    <li><b>New form control:</b> Inculde input type like date and Email</li>\n",
        "    <li><b>Web storage:</b> Store data offline for better performence</li>\n",
        "     <li><b>Semantic elements:</b> Uses tags like  &#60;header&gt; and  &#60;footer&gt;for better structure.</li>\n",
        "  </footer>\n",
        "\n",
        "</body>\n",
        "</html>"
      ],
      "metadata": {
        "id": "NOGTbNMtcWzL"
      },
      "execution_count": null,
      "outputs": []
    },
    {
      "cell_type": "markdown",
      "source": [
        "\n",
        "6. create a simple webpage ewhich has a table. the table must have 2 columns HTML and HTML5. tha table should include a minimum of three rows describing the differences between HTML and HTML5.\n",
        "-"
      ],
      "metadata": {
        "id": "6Jl5Z4becdjk"
      }
    },
    {
      "cell_type": "code",
      "source": [
        "<!DOCTYPE html>\n",
        "<html lang=\"en\">\n",
        "<head>\n",
        "  <meta charset=\"UTF-8\">\n",
        "  <meta name=\"viewport\" content=\"width=device-width, initial-scale=1.0\">\n",
        "  <title>table</title>\n",
        "</head>\n",
        "<body>\n",
        "  <table boarder=\"1\" cellspacing=\"1\" cellpadding=\"10\">\n",
        "<tr>\n",
        "     <th>HTML</th>\n",
        "     <th>HTML5</th>\n",
        "\n",
        " </tr>\n",
        " <tr>\n",
        "    <td>HTML is the main language used to create webpages.</td>\n",
        "    <td>HTML5 is an updated version of HTML that brings additional features to the markup language and incorporates new internet technologies</td>\n",
        " </tr>\n",
        " <tr>\n",
        "    <td>HTML doesn't provide support for video and audio.</td>\n",
        "    <td>HTML5 supports both audio and vedio.</td>\n",
        " </tr>\n",
        "  <tr>\n",
        "\n",
        "  <td>HTML codes can be hard to debugg as their is no error detaction feature.</td>\n",
        "  <td>HTML5 offers better error handling and helps.</td>\n",
        "</tr>\n",
        "  </table>\n",
        "</body>\n",
        "</html>"
      ],
      "metadata": {
        "id": "-e1HquuYcn0b"
      },
      "execution_count": null,
      "outputs": []
    }
  ]
}