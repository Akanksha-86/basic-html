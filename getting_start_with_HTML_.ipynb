{
  "nbformat": 4,
  "nbformat_minor": 0,
  "metadata": {
    "colab": {
      "provenance": []
    },
    "kernelspec": {
      "name": "python3",
      "display_name": "Python 3"
    },
    "language_info": {
      "name": "python"
    }
  },
  "cells": [
    {
      "cell_type": "code",
      "execution_count": null,
      "metadata": {
        "id": "avTynK6dIpn0"
      },
      "outputs": [],
      "source": []
    },
    {
      "cell_type": "markdown",
      "source": [
        "# Getting star with HTML assignment\n"
      ],
      "metadata": {
        "id": "Tp7MQ9-3I98U"
      }
    },
    {
      "cell_type": "markdown",
      "source": [
        "1. write a simple program in HTML that displays the heading \"HTML defines the content and structure of your websites\" on the web browser?\n"
      ],
      "metadata": {
        "id": "UOpGxbcHJSPZ"
      }
    },
    {
      "cell_type": "code",
      "source": [
        "<!DOCTYPE html>\n",
        "<html lang=\"en\">\n",
        "<head>\n",
        "    <meta charset=\"UTF-8\">\n",
        "    <meta name=\"viewport\" content=\"width=device-width, initial-scale=1.0\">\n",
        "    <title>HTML heading</title>\n",
        "</head>\n",
        "<body>\n",
        "    <h1>HTML defines the content and sructure of your website</h1>\n",
        "</body>\n",
        "</html>"
      ],
      "metadata": {
        "id": "fiZe_bhxMu71"
      },
      "execution_count": null,
      "outputs": []
    },
    {
      "cell_type": "markdown",
      "source": [
        "2. Explain the purpose of comments in HTML and provide an example of how to use comments in an HTML document?\n",
        "  - HTML comments are designed to make the code easier to understand for developers especially when reviewing or modifying the code later.\n",
        "\n",
        "\n",
        "    * use of HTML comments\n",
        "    - HTML comments are enclosed within the tages <!-- and -->. for example\n",
        "\n",
        "\n",
        "\n"
      ],
      "metadata": {
        "id": "6txz1Kc2MyPK"
      }
    },
    {
      "cell_type": "code",
      "source": [
        "<!-- this is an example of an HTML comment -->\n",
        "<p> this paragraph is visible on the webpage</p>"
      ],
      "metadata": {
        "id": "gbuU1Y50O5W-"
      },
      "execution_count": null,
      "outputs": []
    },
    {
      "cell_type": "markdown",
      "source": [
        "** purpose of HTML comments**\n",
        " - **code documentation** comments explain the purpose and logic behind the code, making it easier for other developers to understand and modify the code.\n",
        "\n",
        " -  **Debugging**  you can use comments to temporarily disable parts of the code to isolate errors or test changes\n",
        "\n",
        " - **collaboration** comments can be used to provide reminder or notes for other developers working on the same project.\n",
        "\n",
        " - **Readability** comments can help organize the code and make it easier to read and navigate.\n",
        " - **to do notes** comments can serve as placeholder for tasks that need to be completed later.\n",
        "\n",
        " 3. write an HTML program that includes a heading, a paragraph of text, a horizontal line, and a line break, arrange these elements to create a simple webpage layout?\n",
        "   "
      ],
      "metadata": {
        "id": "DQ3rtXkTQHY9"
      }
    },
    {
      "cell_type": "code",
      "source": [
        "- <!DOCTYPE html>\n",
        "<html lang=\"en\">\n",
        "<head>\n",
        "    <meta charset=\"UTF-8\">\n",
        "    <meta name=\"viewport\" content=\"width=device-width, initial-scale=1.0\">\n",
        "    <title> simple webpage</title>\n",
        "</head>\n",
        "<body>\n",
        "    <h1>this is heading</h1>\n",
        "    <p>this is paragraph of text. it can contain multiple lines and words.\n",
        "        here's a <br> linr break. </p>\n",
        "        <hr>\n",
        "        <p>this is another paragrap after the horizontal line.</p>\n",
        "\n",
        "</body>\n",
        "</html>\n"
      ],
      "metadata": {
        "id": "ZkYbIZBiTH_I"
      },
      "execution_count": null,
      "outputs": []
    },
    {
      "cell_type": "markdown",
      "source": [
        "4. write a short note on tag and element with an example?\n",
        " - in HTML, an elementt is a structural unit of a webpage, defined by an opening and closing tag, containing contect (like text, images, or other elements).\n",
        "**example**\n",
        "an element to create a paragraph is:  \n",
        "     "
      ],
      "metadata": {
        "id": "AsBm0NAiUlLA"
      }
    },
    {
      "cell_type": "code",
      "source": [
        "<p>this is a paragraph.</p>"
      ],
      "metadata": {
        "id": "G8-o_KMQV2QT"
      },
      "execution_count": null,
      "outputs": []
    },
    {
      "cell_type": "markdown",
      "source": [
        "**in this element**\n",
        "- <p> is the opening tag.\n",
        "- </p> is the closing tag.\n",
        "- this is a paragraph. is the content.\n",
        "- the entire block <p>this is a paragraph.</p> constitutes the element.\n",
        "\n",
        "  in the simpler term: think of an HTML element like a box that holds content. the opening and closig tags are the sides of the box, and the content is what's inside.\n",
        "\n",
        "  5. what is the DOCTYPE declaration in HTML?\n",
        "  - the DOCTYPE declaration in HTML, typically <!DOCTYPE html>, is a crucial intruction placed at the very beginning of an HTML document before the <html> tag. it informs the browser about the document's type and version, which helps ensure proper rendering and competibility across different browsers.\n",
        "  - **Elaboration:**\n",
        "\n",
        "   **purpose**The DOCTYPE declaration is not an HTML tag; it`s an intruction that tells the browser how to interpret the HTML content.\n",
        "\n",
        "   **imprtance** without DOCTYPE declaration, older browser might fall into\"quirks mode,\" which can lead to incorrect rendering of the webpage. it's especially important for HTML5 documents to ensure compatibility with newer features.\n",
        "\n",
        "   **placement** the DOCTYPE declaration, must be placed at the very begennings of the HTML document, before the <html> tag, and before any other tages.\n"
      ],
      "metadata": {
        "id": "l0Kkd1-rWGn6"
      }
    }
  ]
}